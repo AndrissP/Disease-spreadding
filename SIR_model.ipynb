{
 "cells": [
  {
   "cell_type": "code",
   "execution_count": 2,
   "metadata": {},
   "outputs": [],
   "source": [
    "from matplotlib import pyplot as plt\n",
    "%matplotlib inline\n",
    "%matplotlib widget\n",
    "# calling it a second time may prevent some graphics errors\n",
    "#%matplotlib notebook\n",
    "\n",
    "#For printing out all cell\n",
    "from IPython.core.interactiveshell import InteractiveShell\n",
    "InteractiveShell.ast_node_interactivity = \"all\"\n",
    "\n",
    "import numpy as np"
   ]
  },
  {
   "cell_type": "code",
   "execution_count": null,
   "metadata": {},
   "outputs": [],
   "source": []
  },
  {
   "cell_type": "markdown",
   "metadata": {},
   "source": [
    "Input values"
   ]
  },
  {
   "cell_type": "code",
   "execution_count": 3,
   "metadata": {},
   "outputs": [],
   "source": [
    "EndTime = 100    # days\n",
    "NrIter = 100\n",
    "beta = 0.5  # Probability to get infected * times people meet\n",
    "gamma = 0.1  # Vaccination rate\n",
    "alpha = 0.1  # Recovery rate\n",
    "tStart = 0\n",
    "N = 1  # population in biblions\n",
    "I0 = N*0.01\n",
    "S0 = N*0.98\n",
    "R0 = N-I0-S0"
   ]
  },
  {
   "cell_type": "code",
   "execution_count": 4,
   "metadata": {},
   "outputs": [],
   "source": [
    "h = EndTime/NrIter      #stepsize\n",
    "time=np.linspace(0,EndTime+1,NrIter+1)"
   ]
  },
  {
   "cell_type": "code",
   "execution_count": 13,
   "metadata": {},
   "outputs": [],
   "source": [
    "I = [0]*NrIter\n",
    "I = np.append(I0, I)\n",
    "S = [0]*NrIter\n",
    "S = np.append(S0, S)\n",
    "R = [0]*NrIter\n",
    "R = np.append(R0, R)\n",
    "\n",
    "Var=np.array([S,I,R])"
   ]
  },
  {
   "cell_type": "code",
   "execution_count": 23,
   "metadata": {},
   "outputs": [],
   "source": [
    "#I\n",
    "#S"
   ]
  },
  {
   "cell_type": "code",
   "execution_count": 19,
   "metadata": {},
   "outputs": [],
   "source": [
    "def SChange(Vari, *args): #Vari[0] - S, Vari[1] - I, Vari[2] - R\n",
    "    Change = -beta*Vari[0]*Vari[1]/N - gamma*Vari[0]\n",
    "    return(Change)\n",
    "\n",
    "\n",
    "def IChange(Vari, *args):\n",
    "    Change = beta*Vari[0]*Vari[1]/N - alpha*Vari[1]\n",
    "    return(Change)\n",
    "\n",
    "\n",
    "def RChange(Vari, *args):\n",
    "    Change = gamma*Vari[0] + alpha*Vari[1]\n",
    "    return(Change)\n",
    "\n",
    "ChangeList=[SChange,IChange, RChange]  #List of all functions"
   ]
  },
  {
   "cell_type": "markdown",
   "metadata": {},
   "source": [
    "### Runge-Kutta which does not work"
   ]
  },
  {
   "cell_type": "code",
   "execution_count": 24,
   "metadata": {},
   "outputs": [],
   "source": [
    "K1=np.array([0.1]*len(Var))\n",
    "K2=np.array([0.1]*len(Var))\n",
    "K3=np.array([0.1]*len(Var))\n",
    "K4=np.array([0.1]*len(Var))\n",
    "\n",
    "def MyRungeKutta(i, *args):  # i=time\n",
    "    Vari=Var[:,i]\n",
    "    #time[i+1]=time[i]+h\n",
    "    for j,func in enumerate(ChangeList):\n",
    "        K1[j]=func(Vari)\n",
    "    \n",
    "    for j,func in enumerate(ChangeList):\n",
    "        K2[j]=func(Vari+h*K1)\n",
    "        \n",
    "    for j,func in enumerate(ChangeList):\n",
    "        K3[j]=func(Vari+h*K2)\n",
    "        \n",
    "    for j,func in enumerate(ChangeList):\n",
    "        K4[j]=func(Vari+h*K3)\n",
    "        \n",
    "    Var[:,i+1]=Var[:,i] + K1/6+K2/3 + K3/3 + K4/6"
   ]
  },
  {
   "cell_type": "code",
   "execution_count": 25,
   "metadata": {},
   "outputs": [],
   "source": [
    "def Euler(i,*args):\n",
    "    Vari=Var[:,i]\n",
    "    for j,func in enumerate(ChangeList):\n",
    "        Var[j,i+1]=Var[j,i]+h*func(Vari)"
   ]
  },
  {
   "cell_type": "code",
   "execution_count": null,
   "metadata": {},
   "outputs": [],
   "source": []
  },
  {
   "cell_type": "code",
   "execution_count": 26,
   "metadata": {},
   "outputs": [],
   "source": [
    "for i in range(NrIter):\n",
    "    MyRungeKutta(i)"
   ]
  },
  {
   "cell_type": "code",
   "execution_count": 30,
   "metadata": {},
   "outputs": [
    {
     "data": {
      "text/plain": [
       "[<matplotlib.lines.Line2D at 0x1d437ae91d0>]"
      ]
     },
     "execution_count": 30,
     "metadata": {},
     "output_type": "execute_result"
    },
    {
     "data": {
      "text/plain": [
       "[<matplotlib.lines.Line2D at 0x1d437b1b0f0>]"
      ]
     },
     "execution_count": 30,
     "metadata": {},
     "output_type": "execute_result"
    },
    {
     "data": {
      "text/plain": [
       "[<matplotlib.lines.Line2D at 0x1d437b1b080>]"
      ]
     },
     "execution_count": 30,
     "metadata": {},
     "output_type": "execute_result"
    },
    {
     "data": {
      "text/plain": [
       "<matplotlib.legend.Legend at 0x1d437b1b7b8>"
      ]
     },
     "execution_count": 30,
     "metadata": {},
     "output_type": "execute_result"
    },
    {
     "data": {
      "image/png": "[encoded data removed]",
      "text/plain": [
       "<Figure size 432x288 with 1 Axes>"
      ]
     },
     "metadata": {
      "needs_background": "light"
     },
     "output_type": "display_data"
    }
   ],
   "source": [
    "fig, ax=plt.subplots()\n",
    "ax.plot(time,Var[1],label='I')\n",
    "ax.plot(time,Var[0],label='S')\n",
    "ax.plot(time,Var[2]+Var[1]+Var[0],label='N')\n",
    "fig.legend()\n",
    "#plt.plot(I)"
   ]
  },
  {
   "cell_type": "code",
   "execution_count": 93,
   "metadata": {},
   "outputs": [
    {
     "data": {
      "text/plain": [
       "[<matplotlib.lines.Line2D at 0x1e517cf4da0>]"
      ]
     },
     "execution_count": 93,
     "metadata": {},
     "output_type": "execute_result"
    },
    {
     "data": {
      "text/plain": [
       "[<matplotlib.lines.Line2D at 0x1e51769ec50>]"
      ]
     },
     "execution_count": 93,
     "metadata": {},
     "output_type": "execute_result"
    },
    {
     "data": {
      "text/plain": [
       "[<matplotlib.lines.Line2D at 0x1e51769ebe0>]"
      ]
     },
     "execution_count": 93,
     "metadata": {},
     "output_type": "execute_result"
    },
    {
     "data": {
      "text/plain": [
       "[<matplotlib.lines.Line2D at 0x1e5176ae358>]"
      ]
     },
     "execution_count": 93,
     "metadata": {},
     "output_type": "execute_result"
    },
    {
     "data": {
      "text/plain": [
       "<matplotlib.legend.Legend at 0x1e5176ae470>"
      ]
     },
     "execution_count": 93,
     "metadata": {},
     "output_type": "execute_result"
    },
    {
     "data": {
      "image/png": "[encoded data removed]",
      "text/plain": [
       "<Figure size 432x288 with 1 Axes>"
      ]
     },
     "metadata": {
      "needs_background": "light"
     },
     "output_type": "display_data"
    }
   ],
   "source": [
    "for i in range(NrIter):\n",
    "    Euler(i)\n",
    "\n",
    "fig, ax=plt.subplots()\n",
    "ax.plot(time,I,label='I')\n",
    "ax.plot(time,S,label='S')\n",
    "ax.plot(time,R,label='R')\n",
    "ax.plot(time,I+S+R,label='N')\n",
    "fig.legend()"
   ]
  },
  {
   "cell_type": "code",
   "execution_count": null,
   "metadata": {},
   "outputs": [],
   "source": []
  },
  {
   "cell_type": "code",
   "execution_count": null,
   "metadata": {},
   "outputs": [],
   "source": []
  },
  {
   "cell_type": "code",
   "execution_count": null,
   "metadata": {},
   "outputs": [],
   "source": []
  }
 ],
 "metadata": {
  "kernelspec": {
   "display_name": "Python 3",
   "language": "python",
   "name": "python3"
  },
  "language_info": {
   "codemirror_mode": {
    "name": "ipython",
    "version": 3
   },
   "file_extension": ".py",
   "mimetype": "text/x-python",
   "name": "python",
   "nbconvert_exporter": "python",
   "pygments_lexer": "ipython3",
   "version": "3.6.9"
  },
  "varInspector": {
   "cols": {
    "lenName": 16,
    "lenType": 16,
    "lenVar": 40
   },
   "kernels_config": {
    "python": {
     "delete_cmd_postfix": "",
     "delete_cmd_prefix": "del ",
     "library": "var_list.py",
     "varRefreshCmd": "print(var_dic_list())"
    },
    "r": {
     "delete_cmd_postfix": ") ",
     "delete_cmd_prefix": "rm(",
     "library": "var_list.r",
     "varRefreshCmd": "cat(var_dic_list()) "
    }
   },
   "types_to_exclude": [
    "module",
    "function",
    "builtin_function_or_method",
    "instance",
    "_Feature"
   ],
   "window_display": false
  }
 },
 "nbformat": 4,
 "nbformat_minor": 2
}
